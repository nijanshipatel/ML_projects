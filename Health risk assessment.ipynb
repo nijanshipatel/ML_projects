{
 "cells": [
  {
   "cell_type": "code",
   "execution_count": 1,
   "id": "4ce3cd84-a944-4131-826d-4ab323f32137",
   "metadata": {},
   "outputs": [
    {
     "name": "stdout",
     "output_type": "stream",
     "text": [
      "Looking in indexes: https://download.pytorch.org/whl/cpu, https://pypi.ngc.nvidia.com\n",
      "Requirement already satisfied: torch in c:\\users\\nij\\appdata\\local\\programs\\python\\python311\\lib\\site-packages (2.6.0)\n",
      "Requirement already satisfied: torchvision in c:\\users\\nij\\appdata\\local\\programs\\python\\python311\\lib\\site-packages (0.21.0)\n",
      "Requirement already satisfied: torchaudio in c:\\users\\nij\\appdata\\local\\programs\\python\\python311\\lib\\site-packages (2.6.0)\n",
      "Requirement already satisfied: filelock in c:\\users\\nij\\appdata\\local\\programs\\python\\python311\\lib\\site-packages (from torch) (3.18.0)\n",
      "Requirement already satisfied: typing-extensions>=4.10.0 in c:\\users\\nij\\appdata\\local\\programs\\python\\python311\\lib\\site-packages (from torch) (4.12.2)\n",
      "Requirement already satisfied: networkx in c:\\users\\nij\\appdata\\local\\programs\\python\\python311\\lib\\site-packages (from torch) (3.4.2)\n",
      "Requirement already satisfied: jinja2 in c:\\users\\nij\\appdata\\local\\programs\\python\\python311\\lib\\site-packages (from torch) (3.1.6)\n",
      "Requirement already satisfied: fsspec in c:\\users\\nij\\appdata\\local\\programs\\python\\python311\\lib\\site-packages (from torch) (2025.3.0)\n",
      "Requirement already satisfied: sympy==1.13.1 in c:\\users\\nij\\appdata\\local\\programs\\python\\python311\\lib\\site-packages (from torch) (1.13.1)\n",
      "Requirement already satisfied: mpmath<1.4,>=1.1.0 in c:\\users\\nij\\appdata\\local\\programs\\python\\python311\\lib\\site-packages (from sympy==1.13.1->torch) (1.3.0)\n",
      "Requirement already satisfied: numpy in c:\\users\\nij\\appdata\\local\\programs\\python\\python311\\lib\\site-packages (from torchvision) (2.3.2)\n",
      "Requirement already satisfied: pillow!=8.3.*,>=5.3.0 in c:\\users\\nij\\appdata\\local\\programs\\python\\python311\\lib\\site-packages (from torchvision) (11.1.0)\n",
      "Requirement already satisfied: MarkupSafe>=2.0 in c:\\users\\nij\\appdata\\local\\programs\\python\\python311\\lib\\site-packages (from jinja2->torch) (3.0.2)\n",
      "Note: you may need to restart the kernel to use updated packages.\n"
     ]
    }
   ],
   "source": [
    "pip install torch torchvision torchaudio --index-url https://download.pytorch.org/whl/cpu\n"
   ]
  },
  {
   "cell_type": "code",
   "execution_count": 2,
   "id": "4a36c22c-a75f-44cc-90ba-90bda750b742",
   "metadata": {},
   "outputs": [],
   "source": [
    "import pandas as pd\n",
    "import torch\n",
    "import torch.nn as nn\n",
    "from sklearn.preprocessing import StandardScaler\n",
    "from sklearn.metrics import mean_squared_error, r2_score"
   ]
  },
  {
   "cell_type": "code",
   "execution_count": 4,
   "id": "18190ad3-df5b-4290-9a1d-126af4b63e58",
   "metadata": {},
   "outputs": [
    {
     "data": {
      "text/html": [
       "<div>\n",
       "<style scoped>\n",
       "    .dataframe tbody tr th:only-of-type {\n",
       "        vertical-align: middle;\n",
       "    }\n",
       "\n",
       "    .dataframe tbody tr th {\n",
       "        vertical-align: top;\n",
       "    }\n",
       "\n",
       "    .dataframe thead th {\n",
       "        text-align: right;\n",
       "    }\n",
       "</style>\n",
       "<table border=\"1\" class=\"dataframe\">\n",
       "  <thead>\n",
       "    <tr style=\"text-align: right;\">\n",
       "      <th></th>\n",
       "      <th>Sleep_Hours</th>\n",
       "      <th>Daily_Steps:</th>\n",
       "      <th>Calories_Intake</th>\n",
       "      <th>BMI</th>\n",
       "    </tr>\n",
       "  </thead>\n",
       "  <tbody>\n",
       "    <tr>\n",
       "      <th>0</th>\n",
       "      <td>6</td>\n",
       "      <td>5000</td>\n",
       "      <td>2000</td>\n",
       "      <td>24</td>\n",
       "    </tr>\n",
       "    <tr>\n",
       "      <th>1</th>\n",
       "      <td>7</td>\n",
       "      <td>7000</td>\n",
       "      <td>2200</td>\n",
       "      <td>23</td>\n",
       "    </tr>\n",
       "    <tr>\n",
       "      <th>2</th>\n",
       "      <td>8</td>\n",
       "      <td>8000</td>\n",
       "      <td>2100</td>\n",
       "      <td>22</td>\n",
       "    </tr>\n",
       "    <tr>\n",
       "      <th>3</th>\n",
       "      <td>5</td>\n",
       "      <td>3500</td>\n",
       "      <td>2500</td>\n",
       "      <td>26</td>\n",
       "    </tr>\n",
       "    <tr>\n",
       "      <th>4</th>\n",
       "      <td>7</td>\n",
       "      <td>4000</td>\n",
       "      <td>2300</td>\n",
       "      <td>23</td>\n",
       "    </tr>\n",
       "    <tr>\n",
       "      <th>5</th>\n",
       "      <td>5</td>\n",
       "      <td>5000</td>\n",
       "      <td>2000</td>\n",
       "      <td>25</td>\n",
       "    </tr>\n",
       "    <tr>\n",
       "      <th>6</th>\n",
       "      <td>6</td>\n",
       "      <td>6000</td>\n",
       "      <td>1900</td>\n",
       "      <td>21</td>\n",
       "    </tr>\n",
       "    <tr>\n",
       "      <th>7</th>\n",
       "      <td>7</td>\n",
       "      <td>7000</td>\n",
       "      <td>2600</td>\n",
       "      <td>27</td>\n",
       "    </tr>\n",
       "    <tr>\n",
       "      <th>8</th>\n",
       "      <td>6</td>\n",
       "      <td>4500</td>\n",
       "      <td>2250</td>\n",
       "      <td>23</td>\n",
       "    </tr>\n",
       "    <tr>\n",
       "      <th>9</th>\n",
       "      <td>5</td>\n",
       "      <td>7000</td>\n",
       "      <td>2150</td>\n",
       "      <td>24</td>\n",
       "    </tr>\n",
       "    <tr>\n",
       "      <th>10</th>\n",
       "      <td>8</td>\n",
       "      <td>4600</td>\n",
       "      <td>2050</td>\n",
       "      <td>22</td>\n",
       "    </tr>\n",
       "    <tr>\n",
       "      <th>11</th>\n",
       "      <td>9</td>\n",
       "      <td>6000</td>\n",
       "      <td>2000</td>\n",
       "      <td>25</td>\n",
       "    </tr>\n",
       "    <tr>\n",
       "      <th>12</th>\n",
       "      <td>5</td>\n",
       "      <td>5000</td>\n",
       "      <td>2300</td>\n",
       "      <td>23</td>\n",
       "    </tr>\n",
       "    <tr>\n",
       "      <th>13</th>\n",
       "      <td>6</td>\n",
       "      <td>6000</td>\n",
       "      <td>2450</td>\n",
       "      <td>26</td>\n",
       "    </tr>\n",
       "    <tr>\n",
       "      <th>14</th>\n",
       "      <td>7</td>\n",
       "      <td>8000</td>\n",
       "      <td>2100</td>\n",
       "      <td>23</td>\n",
       "    </tr>\n",
       "  </tbody>\n",
       "</table>\n",
       "</div>"
      ],
      "text/plain": [
       "    Sleep_Hours  Daily_Steps:  Calories_Intake  BMI\n",
       "0             6          5000             2000   24\n",
       "1             7          7000             2200   23\n",
       "2             8          8000             2100   22\n",
       "3             5          3500             2500   26\n",
       "4             7          4000             2300   23\n",
       "5             5          5000             2000   25\n",
       "6             6          6000             1900   21\n",
       "7             7          7000             2600   27\n",
       "8             6          4500             2250   23\n",
       "9             5          7000             2150   24\n",
       "10            8          4600             2050   22\n",
       "11            9          6000             2000   25\n",
       "12            5          5000             2300   23\n",
       "13            6          6000             2450   26\n",
       "14            7          8000             2100   23"
      ]
     },
     "execution_count": 4,
     "metadata": {},
     "output_type": "execute_result"
    }
   ],
   "source": [
    "#dummy dataset\n",
    "data = {\n",
    "    \"Sleep_Hours\": [6,7,8,5,7,5,6,7,6,5,8,9,5,6,7],\n",
    "    \"Daily_Steps:\": [5000,7000,8000,3500,4000,5000,6000,7000,4500,7000,4600,6000,5000,6000,8000],\n",
    "    \"Calories_Intake\": [2000, 2200, 2100, 2500, 2300, 2000, 1900, 2600, 2250, 2150, 2050, 2000, 2300, 2450, 2100],\n",
    "    \"BMI\": [24, 23, 22, 26, 23, 25, 21, 27, 23, 24, 22, 25, 23, 26, 23]\n",
    "}\n",
    "\n",
    "df = pd.DataFrame(data)\n",
    "df"
   ]
  },
  {
   "cell_type": "code",
   "execution_count": 6,
   "id": "2deb4bf9-9ff5-4d99-ad9b-f2eb9a41f6c8",
   "metadata": {},
   "outputs": [],
   "source": [
    "#identify target column\n",
    "\n",
    "X = df.drop(\"BMI\", axis=1).values\n",
    "Y = df[\"BMI\"].values.reshape(-1,1)"
   ]
  },
  {
   "cell_type": "code",
   "execution_count": 7,
   "id": "5d8880fb-6b35-4edb-854f-d39b016d897c",
   "metadata": {},
   "outputs": [],
   "source": [
    "#Apply standardscaler\n",
    "\n",
    "scaler_x = StandardScaler()\n",
    "scaler_y = StandardScaler()"
   ]
  },
  {
   "cell_type": "code",
   "execution_count": 8,
   "id": "b793b6ef-80ac-4483-bbc3-8d9634559ec6",
   "metadata": {},
   "outputs": [],
   "source": [
    "X_scaled = scaler_x.fit_transform(X)\n",
    "Y_scaled = scaler_y.fit_transform(Y)"
   ]
  },
  {
   "cell_type": "code",
   "execution_count": 10,
   "id": "0ae67f33-2f6e-4bc3-88d0-dfb0f9ff9e5d",
   "metadata": {},
   "outputs": [],
   "source": [
    "#convert to PyTorch tensors\n",
    "X_tensor = torch.tensor(X_scaled, dtype=torch.float32)\n",
    "Y_tensor = torch.tensor(Y_scaled, dtype=torch.float32)"
   ]
  },
  {
   "cell_type": "code",
   "execution_count": 14,
   "id": "8e0382ea-8648-4455-a497-1a4a8371cafa",
   "metadata": {},
   "outputs": [
    {
     "name": "stdout",
     "output_type": "stream",
     "text": [
      "Eposch 100/500, Loss: 0.5899\n",
      "Eposch 200/500, Loss: 0.5864\n",
      "Eposch 300/500, Loss: 0.5863\n",
      "Eposch 400/500, Loss: 0.5863\n",
      "Eposch 500/500, Loss: 0.5863\n"
     ]
    }
   ],
   "source": [
    "#Simple linear regression model\n",
    "model = nn.Linear(3,1)\n",
    "\n",
    "#loss and optimizer\n",
    "\n",
    "criterion = nn.MSELoss()\n",
    "optimizer = torch.optim.SGD(model.parameters(), lr=0.01)\n",
    "\n",
    "#training\n",
    "\n",
    "epochs = 500\n",
    "for epoch in range(epochs):\n",
    "    y_pred = model(X_tensor)\n",
    "    loss = criterion(y_pred, Y_tensor)\n",
    "\n",
    "    #baclward\n",
    "    optimizer.zero_grad()\n",
    "    loss.backward()\n",
    "    optimizer.step()\n",
    "\n",
    "    if(epoch+1) % 100 ==0:\n",
    "        print(f\"Eposch {epoch+1}/{epochs}, Loss: {loss.item():.4f}\")\n",
    "\n",
    "    "
   ]
  },
  {
   "cell_type": "code",
   "execution_count": 22,
   "id": "6fed776b-fd58-4ec2-8e2b-3131dec7dd20",
   "metadata": {},
   "outputs": [
    {
     "name": "stdout",
     "output_type": "stream",
     "text": [
      "mse:, 1.5792\n",
      "r2_score: 0.4137\n"
     ]
    }
   ],
   "source": [
    "#predictions\n",
    "\n",
    "with torch.no_grad():\n",
    "    y_pred_scaled = model(X_tensor)\n",
    "    y_pred_original = scaler_y.inverse_transform(y_pred_scaled.numpy())\n",
    "\n",
    "\n",
    "mse = mean_squared_error(Y, y_pred_original)\n",
    "r2 = r2_score(Y, y_pred_original)\n",
    "\n",
    "print(f\"mse:, {mse:.4f}\")\n",
    "print(f\"r2_score: {r2:.4f}\")"
   ]
  },
  {
   "cell_type": "code",
   "execution_count": 24,
   "id": "8d5e15de-4861-4268-962b-8f7999993c68",
   "metadata": {},
   "outputs": [
    {
     "name": "stdout",
     "output_type": "stream",
     "text": [
      "predicted:BMI 23.81\n"
     ]
    }
   ],
   "source": [
    "#predicitions  for new sample\n",
    "\n",
    "new_sample = torch.tensor([[7,7000,2200]], dtype = torch.float32)\n",
    "\n",
    "new_sample_sc = torch.tensor(scaler_x.transform(new_sample), dtype=torch.float32)\n",
    "\n",
    "#predictions\n",
    "\n",
    "with torch.no_grad():\n",
    "    bmi_sc = model(new_sample_sc)\n",
    "    bmi = scaler_y.inverse_transform(bmi_sc.numpy())\n",
    "\n",
    "\n",
    "print(\"predicted:BMI\", round(bmi[0][0],2))"
   ]
  },
  {
   "cell_type": "code",
   "execution_count": null,
   "id": "9da457e5-599c-44db-bee8-ecfce4b9672b",
   "metadata": {},
   "outputs": [],
   "source": []
  }
 ],
 "metadata": {
  "kernelspec": {
   "display_name": "Python 3 (ipykernel)",
   "language": "python",
   "name": "python3"
  },
  "language_info": {
   "codemirror_mode": {
    "name": "ipython",
    "version": 3
   },
   "file_extension": ".py",
   "mimetype": "text/x-python",
   "name": "python",
   "nbconvert_exporter": "python",
   "pygments_lexer": "ipython3",
   "version": "3.11.6"
  }
 },
 "nbformat": 4,
 "nbformat_minor": 5
}
